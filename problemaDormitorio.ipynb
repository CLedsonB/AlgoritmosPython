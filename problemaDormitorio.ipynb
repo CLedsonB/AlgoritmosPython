{
  "nbformat": 4,
  "nbformat_minor": 0,
  "metadata": {
    "colab": {
      "provenance": [],
      "authorship_tag": "ABX9TyM3nu1I2EL8Na0hdpkJ4pC6",
      "include_colab_link": true
    },
    "kernelspec": {
      "name": "python3",
      "display_name": "Python 3"
    },
    "language_info": {
      "name": "python"
    }
  },
  "cells": [
    {
      "cell_type": "markdown",
      "metadata": {
        "id": "view-in-github",
        "colab_type": "text"
      },
      "source": [
        "<a href=\"https://colab.research.google.com/github/CLedsonB/AlgoritmosPython/blob/main/problemaDormitorio.ipynb\" target=\"_parent\"><img src=\"https://colab.research.google.com/assets/colab-badge.svg\" alt=\"Open In Colab\"/></a>"
      ]
    },
    {
      "cell_type": "markdown",
      "source": [
        "---\n",
        "# **APRESENTAÇÃO DO PROBLEMA**\n",
        "\n",
        "---\n",
        "\n",
        "<p align=\"justify\">\n",
        "Sabendo que existem um total de 5 dormitórios, cada um com duas\n",
        "camas e um total de 10 estudantes, pretende-se realizar a alocação dos\n",
        "estudantes. Cada dormitório é identificado por um nome único, relacionado\n",
        "a planetas.\n",
        "Abaixo podem verificar o nome e o símbolo de cada dormitório.\n",
        "</p>"
      ],
      "metadata": {
        "id": "A6afB3rg7BVw"
      }
    },
    {
      "cell_type": "code",
      "source": [
        "import random\n",
        "\n",
        "# variaveis do problema\n",
        "\n",
        "quartos = [\"Mercurio\", \"Venus\",\"Terra\", \"Marte\", \"Jupiter\"]\n",
        "\n",
        "preferencias = [(\"Amanda\", (\"Mercurio\",\"Marte\")),\n",
        "                (\"Bruno\", (\"Mercurio\",\"Venus\")),\n",
        "                (\"Carlos\", (\"Venus\",\"Marte\")),\n",
        "                (\"Franscisco\", (\"Venus\",\"Jupiter\")),\n",
        "                (\"Gabriela\", (\"Terra\",\"Marte\")),\n",
        "                (\"Larissa\", (\"Terra\",\"Jupiter\")),\n",
        "                (\"Romenia\", (\"Terra\",\"Jupiter\")),\n",
        "                (\"Thais\", (\"Mercurio\",\"Marte\")),\n",
        "                (\"Thayane\", (\"Terra\",\"Jupiter\")),\n",
        "                (\"Welligton\", (\"Venus\",\"Terra\"))]"
      ],
      "metadata": {
        "id": "P_tzROe87eA9"
      },
      "execution_count": 1,
      "outputs": []
    },
    {
      "cell_type": "code",
      "source": [
        "# impressão da solução\n",
        "\n",
        "def imprimir_solucao(solucao):\n",
        "  vagas = []\n",
        "  for i in range(len(quartos)):\n",
        "    vagas += [i, i]\n",
        "  for j in range(len(solucao)):\n",
        "    atual = solucao[j]\n",
        "    quarto = quartos[vagas[atual]]\n",
        "    print(preferencias[j][0],quarto)\n",
        "    del vagas[atual]\n",
        "\n",
        "solucao = [i for i in range(10)]"
      ],
      "metadata": {
        "colab": {
          "base_uri": "https://localhost:8080/"
        },
        "id": "EufggFLGAmgS",
        "outputId": "f525f848-f232-488b-881f-4e0890b74cb0"
      },
      "execution_count": 5,
      "outputs": [
        {
          "output_type": "stream",
          "name": "stdout",
          "text": [
            "[0, 1, 2, 3, 4, 5, 6, 7, 8, 9]\n"
          ]
        }
      ]
    },
    {
      "cell_type": "code",
      "source": [
        "# Funcao Custo\n",
        "\n",
        "def custo(solucao):\n",
        "  custo = 0\n",
        "  vagas = [x for x in range(10) if x%2 == 0:  ]"
      ],
      "metadata": {
        "id": "evqaWlK3FiA8"
      },
      "execution_count": null,
      "outputs": []
    }
  ]
}